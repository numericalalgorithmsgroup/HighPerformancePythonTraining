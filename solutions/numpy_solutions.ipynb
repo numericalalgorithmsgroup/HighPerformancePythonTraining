{
 "cells": [
  {
   "cell_type": "markdown",
   "metadata": {},
   "source": [
    "# Numpy Solutions\n",
    "## Exercise 1: Use Numpy to accelerate the prime sieve\n",
    "\n",
    "Use Numpy to accelerate the prime sieve\n",
    "\n",
    "Recall Paul's original Python code"
   ]
  },
  {
   "cell_type": "code",
   "execution_count": null,
   "metadata": {},
   "outputs": [],
   "source": [
    "import  math\n",
    "def sieve_primes(n):\n",
    "    a = [True for x in range(n + 1)]\n",
    "    i = 2\n",
    "    while i <= math.sqrt(n):\n",
    "        if a[i]:\n",
    "            for j in range(i*i, n + 1, i):\n",
    "                a[j] = False\n",
    "        i += 1\n",
    "    return [i for i in range(2, len(a)) if a[i]]"
   ]
  },
  {
   "cell_type": "markdown",
   "metadata": {},
   "source": [
    "Time how long it takes to find all primes below 10000000 and then write and test a numpy version"
   ]
  },
  {
   "cell_type": "code",
   "execution_count": null,
   "metadata": {},
   "outputs": [],
   "source": [
    "python_time = %timeit -o sieve_primes(10000000)"
   ]
  },
  {
   "cell_type": "code",
   "execution_count": null,
   "metadata": {},
   "outputs": [],
   "source": [
    "import numpy as np\n",
    "def numpy_sieve(n):\n",
    "    a = np.ones(n)\n",
    "    a[0] = 0\n",
    "    a[1] = 0\n",
    "    for i in range(2,int(math.sqrt(n))):\n",
    "         a[i*i::i] = 0\n",
    "    return np.flatnonzero(a)"
   ]
  },
  {
   "cell_type": "code",
   "execution_count": null,
   "metadata": {},
   "outputs": [],
   "source": [
    "numpy_sieve(100)"
   ]
  },
  {
   "cell_type": "code",
   "execution_count": null,
   "metadata": {},
   "outputs": [],
   "source": [
    "numpy_time = %timeit -o numpy_sieve(10000000)"
   ]
  },
  {
   "cell_type": "code",
   "execution_count": null,
   "metadata": {},
   "outputs": [],
   "source": [
    "print('Numpy is {0:.1f} times faster than pure python'.format(python_time.best/numpy_time.best))"
   ]
  },
  {
   "cell_type": "markdown",
   "metadata": {},
   "source": [
    "## Exercise 2: Use Numpy to accelerate option pricing\n",
    "\n",
    "First of all we time the original code. "
   ]
  },
  {
   "cell_type": "code",
   "execution_count": null,
   "metadata": {},
   "outputs": [],
   "source": [
    "import math # This is the standard Pyton math module. Not the numpy one\n",
    "import random # This is the standard Python random module.  Not the numpy one\n",
    "\n",
    "def Asian(so,k,r,v,t,m,n):\n",
    "    \"\"\"\n",
    "    I have not identified what the arguments mean since the original MATLAB code didn't either. \n",
    "    This doc-string will be updated once I learn what they are!\n",
    "    \"\"\"\n",
    "    dt = t/m\n",
    "    AsianPayoffSum = 0\n",
    "    for i in range(1,n+1):\n",
    "        s = so\n",
    "        stSum = so\n",
    "        at = so\n",
    "        for j in range(1,m+1):\n",
    "            st = s * math.exp(((r-v**2/2)*dt) + (v*random.normalvariate(0,1)*math.sqrt(dt)))\n",
    "            stSum = stSum + st \n",
    "            at = stSum/(j+1)\n",
    "            s = st\n",
    "        AsianPayoff = max(at-k,0);\n",
    "        AsianPayoffSum = AsianPayoffSum + AsianPayoff;\n",
    "    AsianCall = math.exp(-r*t)*(AsianPayoffSum/n)\n",
    "    return(AsianCall)"
   ]
  },
  {
   "cell_type": "code",
   "execution_count": null,
   "metadata": {},
   "outputs": [],
   "source": [
    "%time Asian(100,90,0.15,0.45,1,100,200000)"
   ]
  },
  {
   "cell_type": "markdown",
   "metadata": {},
   "source": [
    "Now we rewrite this function using Numpy and discover the speed-up you can reasonably expect."
   ]
  },
  {
   "cell_type": "code",
   "execution_count": null,
   "metadata": {},
   "outputs": [],
   "source": [
    "#Solution 1 - Removing the inner loop using vectors\n",
    "import numpy as np\n",
    "\n",
    "def Asian_numpy(so,k,r,v,t,m,n):\n",
    "    dt = t/m\n",
    "    AsianPayoffSum = 0\n",
    "    for i in range(n):\n",
    "        st = np.cumprod(np.hstack((so,np.exp(((r-v**2/2)*dt) + (v*np.random.normal(0,1,m)*np.sqrt(dt))))))\n",
    "        at = np.mean(st)\n",
    "        AsianPayoff = max(at-k,0);\n",
    "        AsianPayoffSum = AsianPayoffSum + AsianPayoff;\n",
    "    AsianCall = np.exp(-r*t)*(AsianPayoffSum/n)\n",
    "    return(AsianCall)"
   ]
  },
  {
   "cell_type": "code",
   "execution_count": null,
   "metadata": {},
   "outputs": [],
   "source": [
    "#Time it \n",
    "%time Asian(100,90,0.15,0.45,1,100,200000)"
   ]
  },
  {
   "cell_type": "code",
   "execution_count": null,
   "metadata": {},
   "outputs": [],
   "source": [
    "# Solution 2 - remove both loops by using matrices\n",
    "import numpy as np\n",
    "from numpy import sqrt,exp\n",
    "from numpy.random import normal\n",
    "\n",
    "def Asian_numpy2(so,k,r,v,t,m,n):\n",
    "    dt = t/m\n",
    "    AsianPayoffSum = 0\n",
    "    sqrt_dt = sqrt(dt)\n",
    "    st = np.cumprod( np.hstack((so*np.ones((n,1)),exp( ((r-v**2/2)*dt) + (v*normal(0,1,(n,m)) * sqrt_dt)) )) ,axis=1)\n",
    "    at = np.mean(st,axis=1)\n",
    "    AsianPayoff = np.maximum(at-k,0)\n",
    "    AsianPayoffMean = AsianPayoff.mean()\n",
    "    AsianCall = np.exp(-r*t)*AsianPayoffMean\n",
    "    return(AsianCall)"
   ]
  },
  {
   "cell_type": "code",
   "execution_count": null,
   "metadata": {},
   "outputs": [],
   "source": [
    "#See if the result looks about right\n",
    "Asian_numpy2(100,90,0.15,0.45,1,100,200000)"
   ]
  },
  {
   "cell_type": "code",
   "execution_count": null,
   "metadata": {},
   "outputs": [],
   "source": [
    "#Time it\n",
    "%time Asian_numpy2(100,90,0.15,0.45,1,100,200000)"
   ]
  },
  {
   "cell_type": "markdown",
   "metadata": {},
   "source": [
    "If we wanted we could combine this with distributed computing to perform many millions of monte carlo simulations in parallel.\n",
    "\n",
    "How might you go about doing that?"
   ]
  },
  {
   "cell_type": "markdown",
   "metadata": {},
   "source": [
    "**Reference**\n",
    "\n",
    "The original MATLAB code came from here https://sheir.org/mf/asian-option-pricing-using-monte-carlo-simulation-method-in-matlab/"
   ]
  },
  {
   "cell_type": "markdown",
   "metadata": {},
   "source": [
    "# NumPy tutorial solutions\n",
    "\n",
    "### Construct the following 7 x 7 matrix using Numpy.\n",
    "\n",
    "$$\n",
    "\\begin{array}{rrrrrrr}\n",
    "  0 & 14 & 28 & 42 & 56 & 70 & 84 \\\\\n",
    "  2 & 16 & 30 & 44 & 58 & 72 & 86 \\\\\n",
    "  4 & 18 & 32 & 46 & 60 & 74 & 88 \\\\\n",
    "  6 & 20 & 34 & 48 & 62 & 76 & 90 \\\\\n",
    "  8 & 22 & 36 & 50 & 64 & 78 & 92 \\\\\n",
    "  10 & 24 & 38 & 52 & 66 & 80 & 94 \\\\\n",
    "  12 & 26 & 40 & 54 & 68 & 82 & 96 \\\\\n",
    "  \\end{array}\n",
    "$$"
   ]
  },
  {
   "cell_type": "code",
   "execution_count": null,
   "metadata": {
    "scrolled": true
   },
   "outputs": [],
   "source": [
    "# One solution\n",
    "a = 2*np.arange(49)\n",
    "a.shape=(7,7)\n",
    "a = a.T\n",
    "a"
   ]
  },
  {
   "cell_type": "code",
   "execution_count": null,
   "metadata": {},
   "outputs": [],
   "source": [
    "# In one line\n",
    "a = 2*np.arange(49).reshape((7,7)).T\n",
    "a"
   ]
  },
  {
   "cell_type": "code",
   "execution_count": null,
   "metadata": {},
   "outputs": [],
   "source": [
    "# Another way \n",
    "a = 2*np.arange(49).reshape((7,7),order = 'F')\n",
    "a"
   ]
  },
  {
   "cell_type": "markdown",
   "metadata": {},
   "source": [
    "### Create a 3x6 array of booleans containing all false values."
   ]
  },
  {
   "cell_type": "code",
   "execution_count": null,
   "metadata": {},
   "outputs": [],
   "source": [
    "np.full((3,6),False,dtype=np.bool)"
   ]
  },
  {
   "cell_type": "markdown",
   "metadata": {},
   "source": [
    "Consider the array \n",
    "\n",
    "`a = np.arange(20)`\n",
    "\n",
    "replace every element that's a multiple of 3 with 0"
   ]
  },
  {
   "cell_type": "code",
   "execution_count": null,
   "metadata": {},
   "outputs": [],
   "source": [
    "a = np.arange(20)\n",
    "a[a % 3==0] = 0\n",
    "a"
   ]
  },
  {
   "cell_type": "markdown",
   "metadata": {},
   "source": [
    "Construct the following matrix\n",
    "\n",
    "$$\n",
    "\\begin{array}{rrrr}\n",
    "  2 & 0 & 0 & 0 \\\\\n",
    "  0 & 2 & 0 & 0  \\\\\n",
    "  0 & 0 & 2 & 0  \\\\\n",
    "  0 & 0 & 0 & 2  \\\\\n",
    "  \\end{array}\n",
    "$$"
   ]
  },
  {
   "cell_type": "code",
   "execution_count": null,
   "metadata": {},
   "outputs": [],
   "source": [
    "np.diag(np.full(4,2))"
   ]
  },
  {
   "cell_type": "markdown",
   "metadata": {},
   "source": [
    "Construct the following matrix\n",
    "\n",
    "$$\n",
    "\\begin{array}{rrrr}\n",
    "  0 & 1 & 0 & 0 \\\\\n",
    "  4 & 0 & 1 & 0  \\\\\n",
    "  0 & 4 & 0 & 1  \\\\\n",
    "  0 & 0 & 4 & 0  \\\\\n",
    "  \\end{array}\n",
    "$$"
   ]
  },
  {
   "cell_type": "code",
   "execution_count": null,
   "metadata": {},
   "outputs": [],
   "source": [
    "a = np.diag(np.full(3,1),1)\n",
    "np.fill_diagonal(a[1:],4)\n",
    "a"
   ]
  },
  {
   "cell_type": "code",
   "execution_count": null,
   "metadata": {},
   "outputs": [],
   "source": []
  }
 ],
 "metadata": {
  "kernelspec": {
   "display_name": "Python 3",
   "language": "python",
   "name": "python3"
  },
  "language_info": {
   "codemirror_mode": {
    "name": "ipython",
    "version": 3
   },
   "file_extension": ".py",
   "mimetype": "text/x-python",
   "name": "python",
   "nbconvert_exporter": "python",
   "pygments_lexer": "ipython3",
   "version": "3.8.5"
  },
  "latex_envs": {
   "LaTeX_envs_menu_present": true,
   "autoclose": false,
   "autocomplete": true,
   "bibliofile": "biblio.bib",
   "cite_by": "apalike",
   "current_citInitial": 1,
   "eqLabelWithNumbers": true,
   "eqNumInitial": 1,
   "hotkeys": {
    "equation": "Ctrl-E",
    "itemize": "Ctrl-I"
   },
   "labels_anchors": false,
   "latex_user_defs": false,
   "report_style_numbering": false,
   "user_envs_cfg": false
  }
 },
 "nbformat": 4,
 "nbformat_minor": 2
}
