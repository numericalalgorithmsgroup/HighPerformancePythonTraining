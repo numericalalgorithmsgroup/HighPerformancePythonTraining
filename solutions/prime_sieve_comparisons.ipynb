{
 "cells": [
  {
   "cell_type": "markdown",
   "metadata": {},
   "source": [
    "## Prime Sieve variants"
   ]
  },
  {
   "cell_type": "code",
   "execution_count": 1,
   "metadata": {},
   "outputs": [],
   "source": [
    "#Original version\n",
    "import  math\n",
    "def sieve_primes(n):\n",
    "    a = [True for x in range(n + 1)]\n",
    "    i = 2\n",
    "    while i <= math.sqrt(n):\n",
    "        if a[i]:\n",
    "            for j in range(i*i, n + 1, i):\n",
    "                a[j] = False\n",
    "        i += 1\n",
    "    return [i for i in range(2, len(a)) if a[i]]"
   ]
  },
  {
   "cell_type": "code",
   "execution_count": 2,
   "metadata": {},
   "outputs": [],
   "source": [
    "#cython version\n",
    "%load_ext Cython"
   ]
  },
  {
   "cell_type": "code",
   "execution_count": 3,
   "metadata": {},
   "outputs": [],
   "source": [
    "%%cython\n",
    "import math\n",
    "cpdef list cython_sieve(int n):\n",
    "    cdef int i, j\n",
    "    cdef list a \n",
    "    a = [True for x in range(n + 1)]\n",
    "    i = 2\n",
    "    while i <= math.sqrt(n):\n",
    "        if a[i]:\n",
    "            for j in range(i*i, n + 1, i):\n",
    "                a[j] = False\n",
    "        i += 1\n",
    "    return [i for i in range(2, len(a)) if a[i]]"
   ]
  },
  {
   "cell_type": "code",
   "execution_count": 4,
   "metadata": {},
   "outputs": [],
   "source": [
    "#numpy version\n",
    "import numpy as np\n",
    "def numpy_sieve(n):\n",
    "    a = np.ones(n)\n",
    "    a[0] = 0\n",
    "    a[1] = 0\n",
    "    for i in range(2,int(math.sqrt(n))):\n",
    "         a[i*i::i] = 0\n",
    "    return np.flatnonzero(a)"
   ]
  },
  {
   "cell_type": "code",
   "execution_count": 5,
   "metadata": {},
   "outputs": [],
   "source": [
    "#numba version\n",
    "from numba import jit\n",
    "\n",
    "@jit\n",
    "def numba_sieve(n):\n",
    "    a = [True for x in range(n + 1)]\n",
    "    i = 2\n",
    "    while i <= math.sqrt(n):\n",
    "        if a[i]:\n",
    "            for j in range(i*i, n + 1, i):\n",
    "                a[j] = False\n",
    "        i += 1\n",
    "    return [i for i in range(2, len(a)) if a[i]]"
   ]
  },
  {
   "cell_type": "code",
   "execution_count": 6,
   "metadata": {},
   "outputs": [],
   "source": [
    "#numba version with nogil=True\n",
    "from numba import jit\n",
    "\n",
    "@jit(nogil=True)\n",
    "def numba_nogil_sieve(n):\n",
    "    a = [True for x in range(n + 1)]\n",
    "    i = 2\n",
    "    while i <= math.sqrt(n):\n",
    "        if a[i]:\n",
    "            for j in range(i*i, n + 1, i):\n",
    "                a[j] = False\n",
    "        i += 1\n",
    "    return [i for i in range(2, len(a)) if a[i]]"
   ]
  },
  {
   "cell_type": "code",
   "execution_count": 7,
   "metadata": {},
   "outputs": [],
   "source": [
    "#numba parallel version\n",
    "from numba import prange\n",
    "@jit(parallel=True)\n",
    "def numba_parallel_sieve(n):\n",
    "    a = [True for x in range(n + 1)]\n",
    "    max = int(math.sqrt(n))\n",
    "    for i in prange(2,max):\n",
    "        if a[i]:\n",
    "            for j in range(i*i, n + 1, i):\n",
    "                a[j] = False\n",
    "    return [i for i in range(2, len(a)) if a[i]]"
   ]
  },
  {
   "cell_type": "code",
   "execution_count": 8,
   "metadata": {},
   "outputs": [],
   "source": [
    "#numba parallel version with nogil=True\n",
    "from numba import prange\n",
    "@jit(parallel=True,nogil=True)\n",
    "def numba_parallel_nogil_sieve(n):\n",
    "    a = [True for x in range(n + 1)]\n",
    "    max = int(math.sqrt(n))\n",
    "    for i in prange(2,max):\n",
    "        if a[i]:\n",
    "            for j in range(i*i, n + 1, i):\n",
    "                a[j] = False\n",
    "    return [i for i in range(2, len(a)) if a[i]]"
   ]
  },
  {
   "cell_type": "code",
   "execution_count": 9,
   "metadata": {},
   "outputs": [
    {
     "name": "stdout",
     "output_type": "stream",
     "text": [
      "3.91 s ± 690 ms per loop (mean ± std. dev. of 7 runs, 1 loop each)\n",
      "1.03 s ± 97 ms per loop (mean ± std. dev. of 7 runs, 1 loop each)\n",
      "1.45 s ± 130 ms per loop (mean ± std. dev. of 7 runs, 1 loop each)\n",
      "399 ms ± 9.24 ms per loop (mean ± std. dev. of 7 runs, 1 loop each)\n",
      "431 ms ± 10.2 ms per loop (mean ± std. dev. of 7 runs, 1 loop each)\n",
      "403 ms ± 6.44 ms per loop (mean ± std. dev. of 7 runs, 1 loop each)\n"
     ]
    }
   ],
   "source": [
    "# Make N smaller if this takes too long to run\n",
    "N=10000000\n",
    "\n",
    "original_time = %timeit -o sieve_primes(N)\n",
    "numpy_time = %timeit -o numpy_sieve(N)\n",
    "cython_time = %timeit -o cython_sieve(N)\n",
    "numba_time = %timeit -o numba_sieve(N)\n",
    "parallel_numba_time = %timeit -o numba_parallel_sieve(N)\n",
    "parallel_nogil_numba_time = %timeit -o numba_parallel_nogil_sieve(N)"
   ]
  },
  {
   "cell_type": "code",
   "execution_count": 10,
   "metadata": {},
   "outputs": [
    {
     "name": "stdout",
     "output_type": "stream",
     "text": [
      "Numpy speed up is 3.8 times\n",
      "Cython speed up is 2.7 times\n",
      "single-core speed up using numba is 9.8 times\n",
      "multi-core speed up using numba is 9.1 times\n",
      "multi-core and nogil speed up using numba is 9.7 times\n"
     ]
    }
   ],
   "source": [
    "print('Numpy speed up is {0:.1f} times'.format(original_time.average/numpy_time.average))\n",
    "print('Cython speed up is {0:.1f} times'.format(original_time.average/cython_time.average))\n",
    "print('single-core speed up using numba is {0:.1f} times'.format(original_time.average/numba_time.average))\n",
    "print('multi-core speed up using numba is {0:.1f} times'.format(original_time.average/parallel_numba_time.average))\n",
    "print('multi-core and nogil speed up using numba is {0:.1f} times'.format(original_time.average/parallel_nogil_numba_time.average))"
   ]
  },
  {
   "cell_type": "markdown",
   "metadata": {},
   "source": [
    "Q: Is the pattern consistent with smaller and larger value of N?"
   ]
  },
  {
   "cell_type": "code",
   "execution_count": null,
   "metadata": {},
   "outputs": [],
   "source": []
  }
 ],
 "metadata": {
  "kernelspec": {
   "display_name": "Python 3",
   "language": "python",
   "name": "python3"
  },
  "language_info": {
   "codemirror_mode": {
    "name": "ipython",
    "version": 3
   },
   "file_extension": ".py",
   "mimetype": "text/x-python",
   "name": "python",
   "nbconvert_exporter": "python",
   "pygments_lexer": "ipython3",
   "version": "3.7.3"
  },
  "latex_envs": {
   "LaTeX_envs_menu_present": true,
   "autoclose": false,
   "autocomplete": true,
   "bibliofile": "biblio.bib",
   "cite_by": "apalike",
   "current_citInitial": 1,
   "eqLabelWithNumbers": true,
   "eqNumInitial": 1,
   "hotkeys": {
    "equation": "Ctrl-E",
    "itemize": "Ctrl-I"
   },
   "labels_anchors": false,
   "latex_user_defs": false,
   "report_style_numbering": false,
   "user_envs_cfg": false
  }
 },
 "nbformat": 4,
 "nbformat_minor": 2
}
