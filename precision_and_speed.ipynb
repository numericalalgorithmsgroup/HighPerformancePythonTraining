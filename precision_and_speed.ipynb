{
 "cells": [
  {
   "cell_type": "markdown",
   "metadata": {},
   "source": [
    "## This demo shows how computing the same operation using different NumPY floating point precisions can have drastically different execution times.  \n",
    "\n",
    "The following data was generated on an Intel Core i5-6500 3.20 GHz quad-core processor with AVX2. The `@` symbol is the NumPy matrix multiplication operator. "
   ]
  },
  {
   "cell_type": "code",
   "execution_count": 1,
   "metadata": {},
   "outputs": [],
   "source": [
    "import numpy as np\n",
    "n = 500"
   ]
  },
  {
   "cell_type": "code",
   "execution_count": 2,
   "metadata": {},
   "outputs": [
    {
     "name": "stdout",
     "output_type": "stream",
     "text": [
      "423 ms ± 6.88 ms per loop (mean ± std. dev. of 7 runs, 1 loop each)\n"
     ]
    }
   ],
   "source": [
    "a = np.random.random((n,n)).astype(dtype=np.float16)\n",
    "b = np.random.random((n,n)).astype(dtype=np.float16)\n",
    "\n",
    "float16_time = %timeit -o a @ b"
   ]
  },
  {
   "cell_type": "code",
   "execution_count": 3,
   "metadata": {},
   "outputs": [
    {
     "name": "stdout",
     "output_type": "stream",
     "text": [
      "1.23 ms ± 238 µs per loop (mean ± std. dev. of 7 runs, 1000 loops each)\n"
     ]
    }
   ],
   "source": [
    "a = np.random.random((n,n)).astype(dtype=np.float32)\n",
    "b = np.random.random((n,n)).astype(dtype=np.float32)\n",
    "\n",
    "float32_time = %timeit -o a @ b"
   ]
  },
  {
   "cell_type": "code",
   "execution_count": 4,
   "metadata": {},
   "outputs": [
    {
     "name": "stdout",
     "output_type": "stream",
     "text": [
      "1.75 ms ± 112 µs per loop (mean ± std. dev. of 7 runs, 1000 loops each)\n"
     ]
    }
   ],
   "source": [
    "a = np.random.random((n,n)).astype(dtype=np.float64)\n",
    "b = np.random.random((n,n)).astype(dtype=np.float64)\n",
    "\n",
    "float64_time = %timeit -o a @ b"
   ]
  },
  {
   "cell_type": "code",
   "execution_count": 5,
   "metadata": {},
   "outputs": [
    {
     "name": "stdout",
     "output_type": "stream",
     "text": [
      "float32 speed up is 343.6 times faster than float16\n",
      "float64 speed up is 241.5 times faster than float16\n",
      "float32 speed up is 1.4 times faster than float64\n"
     ]
    }
   ],
   "source": [
    "print('float32 speed up is {0:.1f} times faster than float16'.format(float16_time.average/float32_time.average))\n",
    "print('float64 speed up is {0:.1f} times faster than float16'.format(float16_time.average/float64_time.average))\n",
    "print('float32 speed up is {0:.1f} times faster than float64'.format(float64_time.average/float32_time.average))"
   ]
  },
  {
   "cell_type": "code",
   "execution_count": null,
   "metadata": {},
   "outputs": [],
   "source": []
  }
 ],
 "metadata": {
  "kernelspec": {
   "display_name": "Python 3",
   "language": "python",
   "name": "python3"
  },
  "language_info": {
   "codemirror_mode": {
    "name": "ipython",
    "version": 3
   },
   "file_extension": ".py",
   "mimetype": "text/x-python",
   "name": "python",
   "nbconvert_exporter": "python",
   "pygments_lexer": "ipython3",
   "version": "3.8.5"
  }
 },
 "nbformat": 4,
 "nbformat_minor": 4
}
