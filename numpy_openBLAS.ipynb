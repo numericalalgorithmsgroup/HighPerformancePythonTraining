{
 "cells": [
  {
   "cell_type": "markdown",
   "metadata": {},
   "source": [
    "# Linear Algebra benchmarks -- Using Numpy with OpenBLAS"
   ]
  },
  {
   "cell_type": "markdown",
   "metadata": {},
   "source": [
    "**Note that the results of this notebook depend on how Numpy was installed on your system.  If you run it, you may get different results from those presented here**"
   ]
  },
  {
   "cell_type": "code",
   "execution_count": 1,
   "metadata": {
    "scrolled": true
   },
   "outputs": [
    {
     "name": "stdout",
     "output_type": "stream",
     "text": [
      "blas_mkl_info:\n",
      "  NOT AVAILABLE\n",
      "blis_info:\n",
      "  NOT AVAILABLE\n",
      "openblas_info:\n",
      "    libraries = ['openblas', 'openblas']\n",
      "    library_dirs = ['/opt/conda/envs/BLAS-OpenBLAS/lib']\n",
      "    language = c\n",
      "    define_macros = [('HAVE_CBLAS', None)]\n",
      "blas_opt_info:\n",
      "    libraries = ['openblas', 'openblas']\n",
      "    library_dirs = ['/opt/conda/envs/BLAS-OpenBLAS/lib']\n",
      "    language = c\n",
      "    define_macros = [('HAVE_CBLAS', None)]\n",
      "lapack_mkl_info:\n",
      "  NOT AVAILABLE\n",
      "openblas_lapack_info:\n",
      "    libraries = ['openblas', 'openblas']\n",
      "    library_dirs = ['/opt/conda/envs/BLAS-OpenBLAS/lib']\n",
      "    language = c\n",
      "    define_macros = [('HAVE_CBLAS', None)]\n",
      "lapack_opt_info:\n",
      "    libraries = ['openblas', 'openblas']\n",
      "    library_dirs = ['/opt/conda/envs/BLAS-OpenBLAS/lib']\n",
      "    language = c\n",
      "    define_macros = [('HAVE_CBLAS', None)]\n"
     ]
    }
   ],
   "source": [
    "import numpy as np\n",
    "np.show_config()"
   ]
  },
  {
   "cell_type": "markdown",
   "metadata": {},
   "source": [
    "We can see that this environment is using [OpenBLAS](https://www.openblas.net/) which is a strong open source implementation of the BLAS. At the time of writing, it is the default BLAS used if you install numpy using pip on Windows (I didn't check Linux or Mac)\n",
    "\n",
    "This notebook was originally run on a Microsoft Azure `Standard_F16` instance"
   ]
  },
  {
   "cell_type": "markdown",
   "metadata": {},
   "source": [
    "## Matrix-Matrix Multiplication\n",
    "\n",
    "The ability to quickly multiply matrices together is the core of many machine learning algorithms"
   ]
  },
  {
   "cell_type": "code",
   "execution_count": 2,
   "metadata": {},
   "outputs": [
    {
     "name": "stdout",
     "output_type": "stream",
     "text": [
      "Small matrix test\n",
      "Time for the product of two 256 x 256 matrices\n",
      "251 µs ± 5.84 µs per loop (mean ± std. dev. of 7 runs, 1000 loops each)\n"
     ]
    }
   ],
   "source": [
    "N = 256\n",
    "# For reproducibility\n",
    "np.random.seed(1)\n",
    "A = np.random.random((N,N))\n",
    "B = np.random.random((N,N))\n",
    "print('Small matrix test')\n",
    "print('Time for the product of two {0} x {0} matrices'.format(N))\n",
    "%timeit C = A @ B"
   ]
  },
  {
   "cell_type": "code",
   "execution_count": 3,
   "metadata": {},
   "outputs": [
    {
     "name": "stdout",
     "output_type": "stream",
     "text": [
      "large matrix test\n",
      "Time for the product of two 6000 x 6000 matrices\n",
      "1.19 s ± 11.5 ms per loop (mean ± std. dev. of 7 runs, 1 loop each)\n"
     ]
    }
   ],
   "source": [
    "N = 6000\n",
    "# For reproducibility\n",
    "np.random.seed(1)\n",
    "A = np.random.random((N,N))\n",
    "B = np.random.random((N,N))\n",
    "print('large matrix test')\n",
    "print('Time for the product of two {0} x {0} matrices'.format(N))\n",
    "%timeit C = A @ B"
   ]
  },
  {
   "cell_type": "markdown",
   "metadata": {},
   "source": [
    "## Singular Value Decomposition\n",
    "\n",
    "An extremely important algorithm in its own right and also the basis of algorithms such as [Principal Component Analysis](https://en.wikipedia.org/wiki/Principal_component_analysis) and the [Pseudo Inverse](https://en.wikipedia.org/wiki/Moore%E2%80%93Penrose_inverse) "
   ]
  },
  {
   "cell_type": "code",
   "execution_count": 4,
   "metadata": {},
   "outputs": [
    {
     "name": "stdout",
     "output_type": "stream",
     "text": [
      "Small matrix test\n",
      "Time for computing the SVD of a 256 x 128 matrix\n",
      "12.2 ms ± 225 µs per loop (mean ± std. dev. of 7 runs, 100 loops each)\n"
     ]
    }
   ],
   "source": [
    "N = 256\n",
    "# For reproducibility\n",
    "np.random.seed(1)\n",
    "D = np.random.random((N, N // 2))\n",
    "print('Small matrix test')\n",
    "print('Time for computing the SVD of a {0} x {1} matrix'.format(N,N//2))\n",
    "%timeit U, s, VT = np.linalg.svd(D)"
   ]
  },
  {
   "cell_type": "code",
   "execution_count": 5,
   "metadata": {},
   "outputs": [
    {
     "name": "stdout",
     "output_type": "stream",
     "text": [
      "Large matrix test\n",
      "Time for computing the SVD of a 3000 x 1500 matrix\n",
      "1.14 s ± 18.4 ms per loop (mean ± std. dev. of 7 runs, 1 loop each)\n"
     ]
    }
   ],
   "source": [
    "N = 3000\n",
    "# For reproducibility\n",
    "np.random.seed(1)\n",
    "D = np.random.random((N, N // 2))\n",
    "print('Large matrix test')\n",
    "print('Time for computing the SVD of a {0} x {1} matrix'.format(N,N//2))\n",
    "%timeit U, s, VT = np.linalg.svd(D)"
   ]
  },
  {
   "cell_type": "markdown",
   "metadata": {},
   "source": [
    "## Eigenvectors\n",
    "\n",
    "One of the most important concepts in linear algebra."
   ]
  },
  {
   "cell_type": "code",
   "execution_count": 6,
   "metadata": {},
   "outputs": [
    {
     "name": "stdout",
     "output_type": "stream",
     "text": [
      "small matrix test\n",
      "Time for computing the Eigenvectors of a 256 x 256 matrix\n",
      "74.7 ms ± 1.84 ms per loop (mean ± std. dev. of 7 runs, 10 loops each)\n"
     ]
    }
   ],
   "source": [
    "N = 256\n",
    "# For reproducibility\n",
    "np.random.seed(1)\n",
    "A = np.random.random((N,N))\n",
    "print('small matrix test')\n",
    "print('Time for computing the Eigenvectors of a {0} x {0} matrix'.format(N))\n",
    "%timeit w,v = np.linalg.eig(A)"
   ]
  },
  {
   "cell_type": "code",
   "execution_count": 7,
   "metadata": {},
   "outputs": [
    {
     "name": "stdout",
     "output_type": "stream",
     "text": [
      "Large matrix test\n",
      "Time for computing the Eigenvectors of a 2000 x 2000 matrix\n",
      "3.94 s ± 28.4 ms per loop (mean ± std. dev. of 7 runs, 1 loop each)\n"
     ]
    }
   ],
   "source": [
    "N = 2000\n",
    "# For reproducibility\n",
    "np.random.seed(1)\n",
    "A = np.random.random((N,N))\n",
    "print('Large matrix test')\n",
    "print('Time for computing the Eigenvectors of a {0} x {0} matrix'.format(N))\n",
    "%timeit w,v = np.linalg.eig(A)"
   ]
  },
  {
   "cell_type": "markdown",
   "metadata": {},
   "source": [
    "# Solving a linear system of equations\n",
    "\n",
    "Solution of the system **Ax = b** given the matrix $A$ and the vector $b$"
   ]
  },
  {
   "cell_type": "code",
   "execution_count": 8,
   "metadata": {},
   "outputs": [
    {
     "name": "stdout",
     "output_type": "stream",
     "text": [
      "Large matrix test\n",
      "Time for solving a linear system where the matrix A is of size 10000 x 10000\n",
      "2.77 s ± 15.5 ms per loop (mean ± std. dev. of 7 runs, 1 loop each)\n"
     ]
    }
   ],
   "source": [
    "N = 10000\n",
    "A = np.random.random((N,N))\n",
    "b = np.random.random((N,1))\n",
    "\n",
    "print('Large matrix test')\n",
    "print('Time for solving a linear system where the matrix A is of size {0} x {0}'.format(N))\n",
    "%timeit x = np.linalg.solve(A, b)"
   ]
  }
 ],
 "metadata": {
  "kernelspec": {
   "display_name": "Python 3",
   "language": "python",
   "name": "python3"
  },
  "language_info": {
   "codemirror_mode": {
    "name": "ipython",
    "version": 3
   },
   "file_extension": ".py",
   "mimetype": "text/x-python",
   "name": "python",
   "nbconvert_exporter": "python",
   "pygments_lexer": "ipython3",
   "version": "3.8.5"
  },
  "latex_envs": {
   "LaTeX_envs_menu_present": true,
   "autoclose": false,
   "autocomplete": true,
   "bibliofile": "biblio.bib",
   "cite_by": "apalike",
   "current_citInitial": 1,
   "eqLabelWithNumbers": true,
   "eqNumInitial": 1,
   "hotkeys": {
    "equation": "Ctrl-E",
    "itemize": "Ctrl-I"
   },
   "labels_anchors": false,
   "latex_user_defs": false,
   "report_style_numbering": false,
   "user_envs_cfg": false
  }
 },
 "nbformat": 4,
 "nbformat_minor": 2
}
