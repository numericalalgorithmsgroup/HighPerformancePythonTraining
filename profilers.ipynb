{
 "cells": [
  {
   "cell_type": "markdown",
   "metadata": {},
   "source": [
    "# Profilers\n",
    "\n",
    "A quick introduction to profiling within a Jupyter notebook.\n",
    "\n",
    "We'll use Paul's prime sieve code from an earlier training module."
   ]
  },
  {
   "cell_type": "code",
   "execution_count": 1,
   "metadata": {},
   "outputs": [],
   "source": [
    "import  math\n",
    "def sieve_primes(n):\n",
    "    a = [True for x in range(n + 1)]\n",
    "    i = 2\n",
    "    while i <= math.sqrt(n):\n",
    "        if a[i]:\n",
    "            for j in range(i*i, n + 1, i):\n",
    "                a[j] = False\n",
    "        i += 1\n",
    "    return [i for i in range(2, len(a)) if a[i]]"
   ]
  },
  {
   "cell_type": "code",
   "execution_count": 2,
   "metadata": {},
   "outputs": [
    {
     "data": {
      "text/plain": [
       "[2, 3, 5, 7, 11, 13, 17, 19, 23, 29]"
      ]
     },
     "execution_count": 2,
     "metadata": {},
     "output_type": "execute_result"
    }
   ],
   "source": [
    "#Check it's working OK\n",
    "sieve_primes(30)"
   ]
  },
  {
   "cell_type": "markdown",
   "metadata": {},
   "source": [
    "Now we'll measure sieve_primes using the time and timeit magic commands. "
   ]
  },
  {
   "cell_type": "code",
   "execution_count": 3,
   "metadata": {},
   "outputs": [
    {
     "name": "stdout",
     "output_type": "stream",
     "text": [
      "CPU times: user 1.13 s, sys: 32.4 ms, total: 1.17 s\n",
      "Wall time: 1.17 s\n"
     ]
    }
   ],
   "source": [
    "#Time it for all primes less than 5 million\n",
    "N = 5000000\n",
    "%time p = sieve_primes(N);"
   ]
  },
  {
   "cell_type": "code",
   "execution_count": 4,
   "metadata": {},
   "outputs": [
    {
     "name": "stdout",
     "output_type": "stream",
     "text": [
      "1.16 s ± 16.7 ms per loop (mean ± std. dev. of 7 runs, 1 loop each)\n"
     ]
    }
   ],
   "source": [
    "%timeit p = sieve_primes(N);"
   ]
  },
  {
   "cell_type": "markdown",
   "metadata": {},
   "source": [
    "Note the difference in execution time between `time` and `timeit`. We get more information from `timeit`, i.e. mean and standard deviation, but at the expense of waiting longer for the result. In general it's important to execute code a few times when timing and profiling to ensure the data is representative of typical runs. Code execution times may vary significantly for different input data sets, or different initial conditions. \n",
    "\n",
    "There's more information about the `%timeit` line magic and `%%timeit` cell magic in the [IPython docs](https://ipython.readthedocs.io/en/stable/interactive/magics.html), e.g. the `-o` flag can be used to return an object containing the results. "
   ]
  },
  {
   "cell_type": "markdown",
   "metadata": {},
   "source": [
    "### Let's use the Python profiler"
   ]
  },
  {
   "cell_type": "code",
   "execution_count": 5,
   "metadata": {},
   "outputs": [
    {
     "name": "stdout",
     "output_type": "stream",
     "text": [
      " "
     ]
    }
   ],
   "source": [
    "%prun p = sieve_primes(N)"
   ]
  },
  {
   "cell_type": "markdown",
   "metadata": {},
   "source": [
    "If we want to apply the profiler to whole cell, we'd use the `%%prun` cell magic.\n",
    "\n",
    "For this example the data tells us `sieve_primes` is the function with the largest `tottime`, and gives us some insight into the internals of Python, but doesn't really tell us anything we can use to improve performance. However the Python profiler is a powerful tool whenever we have multiple functions and want to find out where time is spent.   "
   ]
  },
  {
   "cell_type": "markdown",
   "metadata": {},
   "source": [
    "### Now let's try the line profiler\n",
    "This isn't part of core Python, so make sure the `line_profiler` package is installed e.g. using `pip` or `conda`. The extension needs to be loaded using the `%load_ext` magic command."
   ]
  },
  {
   "cell_type": "code",
   "execution_count": 6,
   "metadata": {},
   "outputs": [],
   "source": [
    "%load_ext line_profiler"
   ]
  },
  {
   "cell_type": "markdown",
   "metadata": {},
   "source": [
    "Also, we need to tell the profiler which function(s) to profile with the `-f` flag. In this example we want to profile sieve_primes, so we need `-f sieve_primes`.  If we we're running in a Jupyter Notebook we'd need to use the `@profile` decorator. \n",
    "\n",
    "Also we can set the time units using with `-u`, i.e. `-u 1e-3` for ms. We'll use units of seconds. "
   ]
  },
  {
   "cell_type": "code",
   "execution_count": 7,
   "metadata": {},
   "outputs": [],
   "source": [
    "%lprun -u 1 -f sieve_primes p = sieve_primes(N)"
   ]
  },
  {
   "cell_type": "markdown",
   "metadata": {},
   "source": [
    "This took significantly longer to run than the unprofiled version, however the sum of `Time` per line is close to the unprofiled run time, so these values are believable. "
   ]
  },
  {
   "cell_type": "markdown",
   "metadata": {},
   "source": [
    "### What next?\n",
    "As you might expect, there's plenty of Python packages out there aiming to improve on these profilers. For example, SnakeViz is a browser based graphical viewer which can be used to display the output of Python’s cProfile module, and can be run within notebooks. You'll need to install `snake_viz` first using `pip` or `conda`, and then load the extension. "
   ]
  },
  {
   "cell_type": "code",
   "execution_count": 8,
   "metadata": {},
   "outputs": [],
   "source": [
    "%load_ext snakeviz"
   ]
  },
  {
   "cell_type": "markdown",
   "metadata": {},
   "source": [
    "Next we'll run SnakeViz. \n",
    "\n",
    "SnakeViz has two views:\n",
    "\n",
    "* Icicle\n",
    " * Fraction of time in a function is represented by width of a rectangle\n",
    " * The first function to be called is the top-most rectangle, with the functions it calls directly below it, etc.\n",
    " * Internal time (i.e. tottime) for each function is shown as an additional child function \n",
    "* Sunburst \n",
    " * Fraction of time in a function is represented by the angular extent of an arc\n",
    " * The first function to be called is the inner most circle, with functions it calls around it, etc. \n",
    " \n",
    "Clicking on a function in the visualisation will zoom in. \n",
    "\n",
    "SnakeViz also displays the same data we saw above with `%prun` in a table at the bottom. Clicking on a function in this table makes it the root function in the visualization.\n",
    "\n",
    "For more information e.g. on Cutoff and Depth see [the SnakeView docs](https://jiffyclub.github.io/snakeviz/). "
   ]
  },
  {
   "cell_type": "code",
   "execution_count": 9,
   "metadata": {},
   "outputs": [
    {
     "name": "stdout",
     "output_type": "stream",
     "text": [
      " \n",
      "*** Profile stats marshalled to file '/var/folders/rt/jff3kg955txd1n03hvh60ry40000gn/T/tmp2ovxud9h'. \n",
      "Embedding SnakeViz in this document...\n"
     ]
    },
    {
     "data": {
      "text/html": [
       "\n",
       "<iframe id='snakeviz-77798230-9c3c-11eb-88de-38c98622921f' frameborder=0 seamless width='100%' height='1000'></iframe>\n",
       "<script>document.getElementById(\"snakeviz-77798230-9c3c-11eb-88de-38c98622921f\").setAttribute(\"src\", \"http://\" + document.location.hostname + \":8080/snakeviz/%2Fvar%2Ffolders%2Frt%2Fjff3kg955txd1n03hvh60ry40000gn%2FT%2Ftmp2ovxud9h\")</script>\n"
      ],
      "text/plain": [
       "<IPython.core.display.HTML object>"
      ]
     },
     "metadata": {},
     "output_type": "display_data"
    }
   ],
   "source": [
    "%snakeviz p = sieve_primes(N)"
   ]
  },
  {
   "cell_type": "markdown",
   "metadata": {},
   "source": [
    "## Exercise\n",
    "\n",
    " 1. Try different `prun` sort options using the `-s` flag as described in the documentation   https://ipython.readthedocs.io/en/stable/interactive/magics.html\n",
    " 1. Test the profilers on your own code. "
   ]
  },
  {
   "cell_type": "code",
   "execution_count": null,
   "metadata": {},
   "outputs": [],
   "source": []
  }
 ],
 "metadata": {
  "kernelspec": {
   "display_name": "Python 3",
   "language": "python",
   "name": "python3"
  },
  "language_info": {
   "codemirror_mode": {
    "name": "ipython",
    "version": 3
   },
   "file_extension": ".py",
   "mimetype": "text/x-python",
   "name": "python",
   "nbconvert_exporter": "python",
   "pygments_lexer": "ipython3",
   "version": "3.8.5"
  },
  "latex_envs": {
   "LaTeX_envs_menu_present": true,
   "autoclose": false,
   "autocomplete": true,
   "bibliofile": "biblio.bib",
   "cite_by": "apalike",
   "current_citInitial": 1,
   "eqLabelWithNumbers": true,
   "eqNumInitial": 1,
   "hotkeys": {
    "equation": "Ctrl-E",
    "itemize": "Ctrl-I"
   },
   "labels_anchors": false,
   "latex_user_defs": false,
   "report_style_numbering": false,
   "user_envs_cfg": false
  }
 },
 "nbformat": 4,
 "nbformat_minor": 2
}
