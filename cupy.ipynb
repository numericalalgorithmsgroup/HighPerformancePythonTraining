{
 "cells": [
  {
   "cell_type": "markdown",
   "metadata": {},
   "source": [
    "## Compare matrix multiplication speeds for NumPy and CuPy"
   ]
  },
  {
   "cell_type": "code",
   "execution_count": 1,
   "metadata": {},
   "outputs": [],
   "source": [
    "import numpy as np\n",
    "import cupy as cp\n",
    "\n",
    "n = 20000\n",
    "x = np.random.rand(n,n)\n",
    "y = np.random.rand(n,n)"
   ]
  },
  {
   "cell_type": "markdown",
   "metadata": {},
   "source": [
    "First we'll time how long NumPy takes to matrix multiply two arays of random values. The CPU is a Intel Xeon CPU E5-2670 v3."
   ]
  },
  {
   "cell_type": "code",
   "execution_count": 2,
   "metadata": {},
   "outputs": [],
   "source": [
    "def np_mult(x,y):\n",
    "    z = np.matmul(x,y)\n",
    "    return z"
   ]
  },
  {
   "cell_type": "code",
   "execution_count": 3,
   "metadata": {},
   "outputs": [
    {
     "name": "stdout",
     "output_type": "stream",
     "text": [
      "CPU times: user 18min 54s, sys: 1min 42s, total: 20min 36s\n",
      "Wall time: 25.9 s\n"
     ]
    }
   ],
   "source": [
    "%time z = np_mult(x,y)"
   ]
  },
  {
   "cell_type": "markdown",
   "metadata": {},
   "source": [
    "And now for the exact same computation on a Quadro GV100 GPU using CuPy.\n",
    "\n",
    "Note that CuPy provides GPU equivalents of NumPy functions with the same names, e.g. `cupy.matmul` and `cupy.random.rand`."
   ]
  },
  {
   "cell_type": "code",
   "execution_count": 4,
   "metadata": {},
   "outputs": [],
   "source": [
    "def cp_mult(x,y):\n",
    "    z = cp.matmul(x,y)\n",
    "    return z"
   ]
  },
  {
   "cell_type": "code",
   "execution_count": 5,
   "metadata": {},
   "outputs": [
    {
     "name": "stdout",
     "output_type": "stream",
     "text": [
      "CPU times: user 255 ms, sys: 144 ms, total: 399 ms\n",
      "Wall time: 414 ms\n"
     ]
    }
   ],
   "source": [
    "x_gpu = cp.random.rand(n,n)\n",
    "y_gpu = cp.random.rand(n,n)\n",
    "    \n",
    "%time z_gpu = cp_mult(x_gpu,y_gpu)"
   ]
  },
  {
   "cell_type": "markdown",
   "metadata": {},
   "source": [
    "Wow, that is fast!\n",
    "\n",
    "But is this a realistic comparison? Note that in this example, `x_gpu`, `y_gpu` and `z_gpu` are all in the GPU memory.\n",
    "\n",
    "Whether this example is realistic depends on whether we're able to run all our computation on the GPU, or whether part of the computation is on the CPU and part on the GPU. In the latter case we need to introduce host (CPU) to device (GPU) data transfers. It's likely we'll have data in CPU memory which needs to be transferred to the GPU (by converting from a NumPy array to a CuPy array) for computation, and then transfer the data back to the CPU memory afterwards. \n",
    "\n",
    "First let's see how long it takes to move z_gpu back into CPU memory."
   ]
  },
  {
   "cell_type": "code",
   "execution_count": 6,
   "metadata": {},
   "outputs": [
    {
     "name": "stdout",
     "output_type": "stream",
     "text": [
      "CPU times: user 2.38 s, sys: 1.5 s, total: 3.88 s\n",
      "Wall time: 3.88 s\n"
     ]
    }
   ],
   "source": [
    "%time z = cp.asnumpy(z_gpu)"
   ]
  },
  {
   "cell_type": "markdown",
   "metadata": {},
   "source": [
    "This data transfer takes a lot longer than the multiplication.\n",
    "\n",
    "What is the time for a new version of our CuPy function, which takes NumPy arrays as input and returns a NumPy array? "
   ]
  },
  {
   "cell_type": "code",
   "execution_count": 7,
   "metadata": {},
   "outputs": [],
   "source": [
    "def cp_mult_v2(x,y):\n",
    "    x_gpu = cp.array(x)\n",
    "    y_gpu = cp.array(y)\n",
    "    z_gpu = cp.matmul(x_gpu,y_gpu)\n",
    "    z = cp.asnumpy(z_gpu)\n",
    "    return z"
   ]
  },
  {
   "cell_type": "code",
   "execution_count": 8,
   "metadata": {},
   "outputs": [
    {
     "name": "stdout",
     "output_type": "stream",
     "text": [
      "CPU times: user 3.7 s, sys: 5.21 s, total: 8.9 s\n",
      "Wall time: 8.9 s\n"
     ]
    }
   ],
   "source": [
    "%time z = cp_mult_v2(x,y)"
   ]
  },
  {
   "cell_type": "markdown",
   "metadata": {},
   "source": [
    "That is much slower, but still faster than NumPy."
   ]
  },
  {
   "cell_type": "markdown",
   "metadata": {},
   "source": [
    "Finally, let's check which version of the BLAS NumPy is using."
   ]
  },
  {
   "cell_type": "code",
   "execution_count": 9,
   "metadata": {},
   "outputs": [
    {
     "name": "stdout",
     "output_type": "stream",
     "text": [
      "blas_mkl_info:\n",
      "  NOT AVAILABLE\n",
      "blis_info:\n",
      "  NOT AVAILABLE\n",
      "openblas_info:\n",
      "    libraries = ['openblas', 'openblas']\n",
      "    library_dirs = ['/usr/local/lib']\n",
      "    language = c\n",
      "    define_macros = [('HAVE_CBLAS', None)]\n",
      "blas_opt_info:\n",
      "    libraries = ['openblas', 'openblas']\n",
      "    library_dirs = ['/usr/local/lib']\n",
      "    language = c\n",
      "    define_macros = [('HAVE_CBLAS', None)]\n",
      "lapack_mkl_info:\n",
      "  NOT AVAILABLE\n",
      "openblas_lapack_info:\n",
      "    libraries = ['openblas', 'openblas']\n",
      "    library_dirs = ['/usr/local/lib']\n",
      "    language = c\n",
      "    define_macros = [('HAVE_CBLAS', None)]\n",
      "lapack_opt_info:\n",
      "    libraries = ['openblas', 'openblas']\n",
      "    library_dirs = ['/usr/local/lib']\n",
      "    language = c\n",
      "    define_macros = [('HAVE_CBLAS', None)]\n"
     ]
    }
   ],
   "source": [
    "np.show_config() "
   ]
  },
  {
   "cell_type": "code",
   "execution_count": null,
   "metadata": {},
   "outputs": [],
   "source": []
  }
 ],
 "metadata": {
  "kernelspec": {
   "display_name": "Python 3",
   "language": "python",
   "name": "python3"
  },
  "language_info": {
   "codemirror_mode": {
    "name": "ipython",
    "version": 3
   },
   "file_extension": ".py",
   "mimetype": "text/x-python",
   "name": "python",
   "nbconvert_exporter": "python",
   "pygments_lexer": "ipython3",
   "version": "3.7.3"
  }
 },
 "nbformat": 4,
 "nbformat_minor": 2
}
