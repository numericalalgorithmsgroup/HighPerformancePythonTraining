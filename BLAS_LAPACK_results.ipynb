{
 "cells": [
  {
   "cell_type": "markdown",
   "metadata": {},
   "source": [
    "# Summary of BLAS and LAPACK results\n",
    "\n",
    "This is a summary of the results from the following notebooks when computed on a Microsoft Azure `Standard_F16`instance in late 2019.\n",
    "\n",
    "* [Intel MKL version](./numpy_intelMKL.ipynb)\n",
    "* [OpenBLAS](./numpy_openBLAS.ipynb)\n",
    "* [Unoptimised BLAS](.numpy_unoptimised_BLAS.ipynb)\n",
    "\n",
    "\n",
    "**Matrix-Matrix Multiply of two 6000 x 6000 matrices**\n",
    "\n",
    "| BLAS Vendor            | time(s) | Speed-up |\n",
    "|------------------------|---------|----------|\n",
    "| OpenBLAS               | 1.19    | 787x     |\n",
    "| IntelMKL               | 0.834   | 1124x    |\n",
    "| Unoptimised (Netlib)   | 937     | 1        |\n",
    "\n",
    "**Singular value decomposition (SVD) of a 3000x1500 matrix**\n",
    "\n",
    "| BLAS Vendor            | time(s) | Speed-up |\n",
    "|------------------------|---------|----------|\n",
    "| OpenBLAS               | 1.14    | 48x      |\n",
    "| IntelMKL               | 0.711   | 77x      |\n",
    "| Unoptimised (Netlib)   | 54.7    | 1        |\n",
    "\n",
    "**Eigenvalues of a 2000x2000 matrix**\n",
    "\n",
    "| BLAS Vendor            | time(s) | Speed-up |\n",
    "|------------------------|---------|----------|\n",
    "| OpenBLAS               | 3.94    | 17x      |\n",
    "| IntelMKL               | 3.02    | 22x      |\n",
    "| Unoptimised (Netlib)   | 65      | 1        |\n",
    "\n",
    "**Linear Solve with a 10,000 x 10000 coefficient matrix**\n",
    "\n",
    "| BLAS Vendor            | time(s) | Speed-up |\n",
    "|------------------------|---------|----------|\n",
    "| OpenBLAS               | 2.77    | 149x     |\n",
    "| IntelMKL               | 1.64    | 252x     |\n",
    "| Unoptimised (Netlib)   | 413     | 1        |\n"
   ]
  }
 ],
 "metadata": {
  "kernelspec": {
   "display_name": "Python 3",
   "language": "python",
   "name": "python3"
  },
  "language_info": {
   "codemirror_mode": {
    "name": "ipython",
    "version": 3
   },
   "file_extension": ".py",
   "mimetype": "text/x-python",
   "name": "python",
   "nbconvert_exporter": "python",
   "pygments_lexer": "ipython3",
   "version": "3.7.3"
  },
  "latex_envs": {
   "LaTeX_envs_menu_present": true,
   "autoclose": false,
   "autocomplete": true,
   "bibliofile": "biblio.bib",
   "cite_by": "apalike",
   "current_citInitial": 1,
   "eqLabelWithNumbers": true,
   "eqNumInitial": 1,
   "hotkeys": {
    "equation": "Ctrl-E",
    "itemize": "Ctrl-I"
   },
   "labels_anchors": false,
   "latex_user_defs": false,
   "report_style_numbering": false,
   "user_envs_cfg": false
  }
 },
 "nbformat": 4,
 "nbformat_minor": 2
}
